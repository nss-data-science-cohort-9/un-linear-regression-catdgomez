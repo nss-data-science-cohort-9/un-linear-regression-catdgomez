{
 "cells": [
  {
   "cell_type": "markdown",
   "id": "e452d3fe-e4e0-4a3b-9430-3aab47270ffb",
   "metadata": {},
   "source": [
    "# Linear Regression, Part 1\n",
    "\n",
    "In this notebook, we'll review the big ideas behind **linear regression**. \n",
    "\n",
    "Linear regression involves a **target variable** (also called the **dependent variable**) and some number of **explanatory variables** (also known as **independent variables** or **predictors**). We want to estimate the effect of the explanatory variables on the **mean** of the target variable, allowing us to understand how changes in the predictors influence the outcome.\n",
    "\n",
    "For this notebook, we'll be using the [possum dataset](https://www.openintro.org/data/index.php?data=possum) from the OpenIntro Statistics textbook. We'll be using the total length (total_l) variable as our target."
   ]
  },
  {
   "cell_type": "code",
   "execution_count": 2,
   "id": "3a114c87-3122-42fa-ad58-89a735e0d493",
   "metadata": {},
   "outputs": [],
   "source": [
    "import pandas as pd\n",
    "import numpy as np\n",
    "import matplotlib.pyplot as plt"
   ]
  },
  {
   "cell_type": "code",
   "execution_count": 64,
   "id": "62dfb1af-7c5f-46a5-b238-49150ae1d517",
   "metadata": {},
   "outputs": [
    {
     "data": {
      "text/html": [
       "<div>\n",
       "<style scoped>\n",
       "    .dataframe tbody tr th:only-of-type {\n",
       "        vertical-align: middle;\n",
       "    }\n",
       "\n",
       "    .dataframe tbody tr th {\n",
       "        vertical-align: top;\n",
       "    }\n",
       "\n",
       "    .dataframe thead th {\n",
       "        text-align: right;\n",
       "    }\n",
       "</style>\n",
       "<table border=\"1\" class=\"dataframe\">\n",
       "  <thead>\n",
       "    <tr style=\"text-align: right;\">\n",
       "      <th></th>\n",
       "      <th>site</th>\n",
       "      <th>pop</th>\n",
       "      <th>sex</th>\n",
       "      <th>age</th>\n",
       "      <th>head_l</th>\n",
       "      <th>skull_w</th>\n",
       "      <th>total_l</th>\n",
       "      <th>tail_l</th>\n",
       "    </tr>\n",
       "  </thead>\n",
       "  <tbody>\n",
       "    <tr>\n",
       "      <th>0</th>\n",
       "      <td>1</td>\n",
       "      <td>Vic</td>\n",
       "      <td>m</td>\n",
       "      <td>8.0</td>\n",
       "      <td>94.1</td>\n",
       "      <td>60.4</td>\n",
       "      <td>89.0</td>\n",
       "      <td>36.0</td>\n",
       "    </tr>\n",
       "    <tr>\n",
       "      <th>1</th>\n",
       "      <td>1</td>\n",
       "      <td>Vic</td>\n",
       "      <td>f</td>\n",
       "      <td>6.0</td>\n",
       "      <td>92.5</td>\n",
       "      <td>57.6</td>\n",
       "      <td>91.5</td>\n",
       "      <td>36.5</td>\n",
       "    </tr>\n",
       "    <tr>\n",
       "      <th>2</th>\n",
       "      <td>1</td>\n",
       "      <td>Vic</td>\n",
       "      <td>f</td>\n",
       "      <td>6.0</td>\n",
       "      <td>94.0</td>\n",
       "      <td>60.0</td>\n",
       "      <td>95.5</td>\n",
       "      <td>39.0</td>\n",
       "    </tr>\n",
       "    <tr>\n",
       "      <th>3</th>\n",
       "      <td>1</td>\n",
       "      <td>Vic</td>\n",
       "      <td>f</td>\n",
       "      <td>6.0</td>\n",
       "      <td>93.2</td>\n",
       "      <td>57.1</td>\n",
       "      <td>92.0</td>\n",
       "      <td>38.0</td>\n",
       "    </tr>\n",
       "    <tr>\n",
       "      <th>4</th>\n",
       "      <td>1</td>\n",
       "      <td>Vic</td>\n",
       "      <td>f</td>\n",
       "      <td>2.0</td>\n",
       "      <td>91.5</td>\n",
       "      <td>56.3</td>\n",
       "      <td>85.5</td>\n",
       "      <td>36.0</td>\n",
       "    </tr>\n",
       "  </tbody>\n",
       "</table>\n",
       "</div>"
      ],
      "text/plain": [
       "   site  pop sex  age  head_l  skull_w  total_l  tail_l\n",
       "0     1  Vic   m  8.0    94.1     60.4     89.0    36.0\n",
       "1     1  Vic   f  6.0    92.5     57.6     91.5    36.5\n",
       "2     1  Vic   f  6.0    94.0     60.0     95.5    39.0\n",
       "3     1  Vic   f  6.0    93.2     57.1     92.0    38.0\n",
       "4     1  Vic   f  2.0    91.5     56.3     85.5    36.0"
      ]
     },
     "execution_count": 64,
     "metadata": {},
     "output_type": "execute_result"
    }
   ],
   "source": [
    "possums = pd.read_csv(\"../data/possum.csv\")\n",
    "possums.head()"
   ]
  },
  {
   "cell_type": "markdown",
   "id": "500ec372-e3a2-4e19-bda5-a3b8e8da59df",
   "metadata": {},
   "source": [
    "Let's start by using the tail length (tail_l) as our predictor variable.\n",
    "\n",
    "For linear regression, we assume that the mean value of the total length can be estimated using a linear function of the predictor variables:\n",
    "\n",
    "$$Mean(total_l) = \\beta_0 + \\beta_1(tail_l)$$\n",
    "\n",
    "To see if this looks plausible, let's inspect a scatterplot."
   ]
  },
  {
   "cell_type": "code",
   "execution_count": 5,
   "id": "52b96901-82ab-44d9-93a4-4cdddd991205",
   "metadata": {},
   "outputs": [
    {
     "data": {
      "image/png": "[encoded data removed]",
      "text/plain": [
       "<Figure size 640x480 with 1 Axes>"
      ]
     },
     "metadata": {},
     "output_type": "display_data"
    }
   ],
   "source": [
    "possums.plot(kind=\"scatter\", x=\"tail_l\", y=\"total_l\");"
   ]
  },
  {
   "cell_type": "markdown",
   "id": "3ef78e94-6bf0-4190-9afb-eb7c8b1670df",
   "metadata": {},
   "source": [
    "**Question:** Does the model above look reasonable?"
   ]
  },
  {
   "cell_type": "markdown",
   "id": "92b1a6a1-6a75-4895-b3dd-68a3b15e7316",
   "metadata": {},
   "source": [
    "Now, we need to estimate the values of the coefficients, $\\beta_0$ and $\\beta_1$. For this, we'll use the statsmodels library."
   ]
  },
  {
   "cell_type": "code",
   "execution_count": 121,
   "id": "d15af6fa-5fa7-43b6-a8e1-29be03dd8c1e",
   "metadata": {},
   "outputs": [],
   "source": [
    "import statsmodels.formula.api as smf"
   ]
  },
  {
   "cell_type": "markdown",
   "id": "9510567f-0f59-48f8-b403-f45811f412aa",
   "metadata": {},
   "source": [
    "To specify our model, we need to use a [patsy formula](https://patsy.readthedocs.io/en/latest/formulas.html). The recipe is `target variable ~ predictor variables`.\n",
    "\n",
    "We'll use the `ols` function and go ahead and fit the model."
   ]
  },
  {
   "cell_type": "code",
   "execution_count": 124,
   "id": "e6942adf-918d-45f8-a7ea-708eec5e89cf",
   "metadata": {},
   "outputs": [],
   "source": [
    "lr_total_tail = smf.ols(\"total_l ~ tail_l\", data=possums).fit()"
   ]
  },
  {
   "cell_type": "markdown",
   "id": "cc76b5f3-1615-48f1-8280-42c608400967",
   "metadata": {},
   "source": [
    "To see the results, we can inspect the params."
   ]
  },
  {
   "cell_type": "code",
   "execution_count": 127,
   "id": "c8aece13-5fda-406e-9754-a4b61828aba2",
   "metadata": {},
   "outputs": [
    {
     "data": {
      "text/plain": [
       "Intercept    41.037130\n",
       "tail_l        1.244307\n",
       "dtype: float64"
      ]
     },
     "execution_count": 127,
     "metadata": {},
     "output_type": "execute_result"
    }
   ],
   "source": [
    "lr_total_tail.params"
   ]
  },
  {
   "cell_type": "markdown",
   "id": "c1680063-0095-49fc-bff7-f6799c294c06",
   "metadata": {},
   "source": [
    "Substituting these estimates into the model, we get\n",
    "\n",
    "$$Mean(total_l) = 41.037130 + 1.244307(tail_l)$$"
   ]
  },
  {
   "cell_type": "markdown",
   "id": "bb19f28e-24a4-4b1f-ba43-3adf7077edf4",
   "metadata": {},
   "source": [
    "**Question:** How do we interpret the meaning of the coefficint for the tail length (if tail length and total length are measured in cm)?"
   ]
  },
  {
   "cell_type": "markdown",
   "id": "9cfd1e32-3113-466d-8bc2-bea208457048",
   "metadata": {},
   "source": [
    "If we want to overlay the estimates on the scatterplot, we can use the predict method. We need to provide a DataFrame that has the correct columns."
   ]
  },
  {
   "cell_type": "code",
   "execution_count": 135,
   "id": "fd780a01-80ce-4c68-84bb-9591604b0983",
   "metadata": {},
   "outputs": [
    {
     "data": {
      "text/html": [
       "<div>\n",
       "<style scoped>\n",
       "    .dataframe tbody tr th:only-of-type {\n",
       "        vertical-align: middle;\n",
       "    }\n",
       "\n",
       "    .dataframe tbody tr th {\n",
       "        vertical-align: top;\n",
       "    }\n",
       "\n",
       "    .dataframe thead th {\n",
       "        text-align: right;\n",
       "    }\n",
       "</style>\n",
       "<table border=\"1\" class=\"dataframe\">\n",
       "  <thead>\n",
       "    <tr style=\"text-align: right;\">\n",
       "      <th></th>\n",
       "      <th>tail_l</th>\n",
       "      <th>mean_estimate</th>\n",
       "    </tr>\n",
       "  </thead>\n",
       "  <tbody>\n",
       "    <tr>\n",
       "      <th>0</th>\n",
       "      <td>32.00000</td>\n",
       "      <td>80.854961</td>\n",
       "    </tr>\n",
       "    <tr>\n",
       "      <th>1</th>\n",
       "      <td>32.22449</td>\n",
       "      <td>81.134295</td>\n",
       "    </tr>\n",
       "  </tbody>\n",
       "</table>\n",
       "</div>"
      ],
      "text/plain": [
       "     tail_l  mean_estimate\n",
       "0  32.00000      80.854961\n",
       "1  32.22449      81.134295"
      ]
     },
     "execution_count": 135,
     "metadata": {},
     "output_type": "execute_result"
    }
   ],
   "source": [
    "pred_df = pd.DataFrame(\n",
    "    {\n",
    "        'tail_l': np.linspace(start=possums['tail_l'].min(), stop=possums['tail_l'].max())\n",
    "    }\n",
    ")\n",
    "\n",
    "pred_df['mean_estimate'] = lr_total_tail.predict(pred_df)\n",
    "\n",
    "pred_df.head(2)"
   ]
  },
  {
   "cell_type": "markdown",
   "id": "ecc1445c-a766-4532-b18a-6e9d0685945a",
   "metadata": {},
   "source": [
    "Let's verify the first estimate."
   ]
  },
  {
   "cell_type": "code",
   "execution_count": 179,
   "id": "82aec85d-2ada-43e7-8492-c267dd2bc520",
   "metadata": {},
   "outputs": [
    {
     "data": {
      "text/plain": [
       "80.85496097833766"
      ]
     },
     "execution_count": 179,
     "metadata": {},
     "output_type": "execute_result"
    }
   ],
   "source": [
    "tail_l = 32\n",
    "estimate = lr_total_tail.params['Intercept'] + lr_total_tail.params['tail_l']*tail_l\n",
    "estimate"
   ]
  },
  {
   "cell_type": "markdown",
   "id": "8dea4214-7dc4-46a6-9e79-4189e3ce0a32",
   "metadata": {},
   "source": [
    "Now, let's plot the estimates with the original dataset."
   ]
  },
  {
   "cell_type": "code",
   "execution_count": 141,
   "id": "6330e7d3-c2b4-47d5-b928-218798ac1f3a",
   "metadata": {},
   "outputs": [
    {
     "data": {
      "image/png": "[encoded data removed]",
      "text/plain": [
       "<Figure size 640x480 with 1 Axes>"
      ]
     },
     "metadata": {},
     "output_type": "display_data"
    }
   ],
   "source": [
    "fig, ax = plt.subplots()\n",
    "possums.plot(kind=\"scatter\", x=\"tail_l\", y=\"total_l\", ax=ax)\n",
    "pred_df.plot(kind=\"line\", x=\"tail_l\", y=\"mean_estimate\", color=\"black\", ax=ax);"
   ]
  },
  {
   "cell_type": "markdown",
   "id": "11773d6c-2827-4915-b9d5-3793b1494d3d",
   "metadata": {},
   "source": [
    "### Inference for Linear Regression\n",
    "\n",
    "At this point, it is important to remember that the coefficients that we got are merely **estimates**, which means that there is inherent **uncertainty** in those values. \n",
    "\n",
    "A common way to quantify this uncertainty is through a **confidence interval**, which gives a plausible range of values for the estimated parameters, given the observed data.\n",
    "\n",
    "We can view the confidence interval for the estimates by inspecting the model summary output."
   ]
  },
  {
   "cell_type": "code",
   "execution_count": 143,
   "id": "3f0949f0-12ef-4d2d-9c73-eb51a1124119",
   "metadata": {},
   "outputs": [
    {
     "data": {
      "text/html": [
       "<table class=\"simpletable\">\n",
       "<caption>OLS Regression Results</caption>\n",
       "<tr>\n",
       "  <th>Dep. Variable:</th>         <td>total_l</td>     <th>  R-squared:         </th> <td>   0.320</td>\n",
       "</tr>\n",
       "<tr>\n",
       "  <th>Model:</th>                   <td>OLS</td>       <th>  Adj. R-squared:    </th> <td>   0.313</td>\n",
       "</tr>\n",
       "<tr>\n",
       "  <th>Method:</th>             <td>Least Squares</td>  <th>  F-statistic:       </th> <td>   47.99</td>\n",
       "</tr>\n",
       "<tr>\n",
       "  <th>Date:</th>             <td>Thu, 23 Oct 2025</td> <th>  Prob (F-statistic):</th> <td>3.94e-10</td>\n",
       "</tr>\n",
       "<tr>\n",
       "  <th>Time:</th>                 <td>20:30:06</td>     <th>  Log-Likelihood:    </th> <td> -278.97</td>\n",
       "</tr>\n",
       "<tr>\n",
       "  <th>No. Observations:</th>      <td>   104</td>      <th>  AIC:               </th> <td>   561.9</td>\n",
       "</tr>\n",
       "<tr>\n",
       "  <th>Df Residuals:</th>          <td>   102</td>      <th>  BIC:               </th> <td>   567.2</td>\n",
       "</tr>\n",
       "<tr>\n",
       "  <th>Df Model:</th>              <td>     1</td>      <th>                     </th>     <td> </td>   \n",
       "</tr>\n",
       "<tr>\n",
       "  <th>Covariance Type:</th>      <td>nonrobust</td>    <th>                     </th>     <td> </td>   \n",
       "</tr>\n",
       "</table>\n",
       "<table class=\"simpletable\">\n",
       "<tr>\n",
       "      <td></td>         <th>coef</th>     <th>std err</th>      <th>t</th>      <th>P>|t|</th>  <th>[0.025</th>    <th>0.975]</th>  \n",
       "</tr>\n",
       "<tr>\n",
       "  <th>Intercept</th> <td>   41.0371</td> <td>    6.657</td> <td>    6.165</td> <td> 0.000</td> <td>   27.833</td> <td>   54.241</td>\n",
       "</tr>\n",
       "<tr>\n",
       "  <th>tail_l</th>    <td>    1.2443</td> <td>    0.180</td> <td>    6.927</td> <td> 0.000</td> <td>    0.888</td> <td>    1.601</td>\n",
       "</tr>\n",
       "</table>\n",
       "<table class=\"simpletable\">\n",
       "<tr>\n",
       "  <th>Omnibus:</th>       <td> 1.679</td> <th>  Durbin-Watson:     </th> <td>   0.936</td>\n",
       "</tr>\n",
       "<tr>\n",
       "  <th>Prob(Omnibus):</th> <td> 0.432</td> <th>  Jarque-Bera (JB):  </th> <td>   1.488</td>\n",
       "</tr>\n",
       "<tr>\n",
       "  <th>Skew:</th>          <td>-0.157</td> <th>  Prob(JB):          </th> <td>   0.475</td>\n",
       "</tr>\n",
       "<tr>\n",
       "  <th>Kurtosis:</th>      <td> 2.505</td> <th>  Cond. No.          </th> <td>    705.</td>\n",
       "</tr>\n",
       "</table><br/><br/>Notes:<br/>[1] Standard Errors assume that the covariance matrix of the errors is correctly specified."
      ],
      "text/latex": [
       "\\begin{center}\n",
       "\\begin{tabular}{lclc}\n",
       "\\toprule\n",
       "\\textbf{Dep. Variable:}    &     total\\_l     & \\textbf{  R-squared:         } &     0.320   \\\\\n",
       "\\textbf{Model:}            &       OLS        & \\textbf{  Adj. R-squared:    } &     0.313   \\\\\n",
       "\\textbf{Method:}           &  Least Squares   & \\textbf{  F-statistic:       } &     47.99   \\\\\n",
       "\\textbf{Date:}             & Thu, 23 Oct 2025 & \\textbf{  Prob (F-statistic):} &  3.94e-10   \\\\\n",
       "\\textbf{Time:}             &     20:30:06     & \\textbf{  Log-Likelihood:    } &   -278.97   \\\\\n",
       "\\textbf{No. Observations:} &         104      & \\textbf{  AIC:               } &     561.9   \\\\\n",
       "\\textbf{Df Residuals:}     &         102      & \\textbf{  BIC:               } &     567.2   \\\\\n",
       "\\textbf{Df Model:}         &           1      & \\textbf{                     } &             \\\\\n",
       "\\textbf{Covariance Type:}  &    nonrobust     & \\textbf{                     } &             \\\\\n",
       "\\bottomrule\n",
       "\\end{tabular}\n",
       "\\begin{tabular}{lcccccc}\n",
       "                   & \\textbf{coef} & \\textbf{std err} & \\textbf{t} & \\textbf{P$> |$t$|$} & \\textbf{[0.025} & \\textbf{0.975]}  \\\\\n",
       "\\midrule\n",
       "\\textbf{Intercept} &      41.0371  &        6.657     &     6.165  &         0.000        &       27.833    &       54.241     \\\\\n",
       "\\textbf{tail\\_l}   &       1.2443  &        0.180     &     6.927  &         0.000        &        0.888    &        1.601     \\\\\n",
       "\\bottomrule\n",
       "\\end{tabular}\n",
       "\\begin{tabular}{lclc}\n",
       "\\textbf{Omnibus:}       &  1.679 & \\textbf{  Durbin-Watson:     } &    0.936  \\\\\n",
       "\\textbf{Prob(Omnibus):} &  0.432 & \\textbf{  Jarque-Bera (JB):  } &    1.488  \\\\\n",
       "\\textbf{Skew:}          & -0.157 & \\textbf{  Prob(JB):          } &    0.475  \\\\\n",
       "\\textbf{Kurtosis:}      &  2.505 & \\textbf{  Cond. No.          } &     705.  \\\\\n",
       "\\bottomrule\n",
       "\\end{tabular}\n",
       "%\\caption{OLS Regression Results}\n",
       "\\end{center}\n",
       "\n",
       "Notes: \\newline\n",
       " [1] Standard Errors assume that the covariance matrix of the errors is correctly specified."
      ],
      "text/plain": [
       "<class 'statsmodels.iolib.summary.Summary'>\n",
       "\"\"\"\n",
       "                            OLS Regression Results                            \n",
       "==============================================================================\n",
       "Dep. Variable:                total_l   R-squared:                       0.320\n",
       "Model:                            OLS   Adj. R-squared:                  0.313\n",
       "Method:                 Least Squares   F-statistic:                     47.99\n",
       "Date:                Thu, 23 Oct 2025   Prob (F-statistic):           3.94e-10\n",
       "Time:                        20:30:06   Log-Likelihood:                -278.97\n",
       "No. Observations:                 104   AIC:                             561.9\n",
       "Df Residuals:                     102   BIC:                             567.2\n",
       "Df Model:                           1                                         \n",
       "Covariance Type:            nonrobust                                         \n",
       "==============================================================================\n",
       "                 coef    std err          t      P>|t|      [0.025      0.975]\n",
       "------------------------------------------------------------------------------\n",
       "Intercept     41.0371      6.657      6.165      0.000      27.833      54.241\n",
       "tail_l         1.2443      0.180      6.927      0.000       0.888       1.601\n",
       "==============================================================================\n",
       "Omnibus:                        1.679   Durbin-Watson:                   0.936\n",
       "Prob(Omnibus):                  0.432   Jarque-Bera (JB):                1.488\n",
       "Skew:                          -0.157   Prob(JB):                        0.475\n",
       "Kurtosis:                       2.505   Cond. No.                         705.\n",
       "==============================================================================\n",
       "\n",
       "Notes:\n",
       "[1] Standard Errors assume that the covariance matrix of the errors is correctly specified.\n",
       "\"\"\""
      ]
     },
     "execution_count": 143,
     "metadata": {},
     "output_type": "execute_result"
    }
   ],
   "source": [
    "lr_total_tail.summary()"
   ]
  },
  {
   "cell_type": "markdown",
   "id": "c522272a-fe03-4b6b-89f4-da71bd912c4f",
   "metadata": {},
   "source": [
    "This says that, given the observed data, it is plausible that the effect of a one-unit change in tail_l could be as small as 0.888 or as large as 1.601.\n",
    "\n",
    "We might also ask whether the effect of tail_l is **statistically significant** or is the observed effect could be attributed solely to random **sampling error**.\n",
    "\n",
    "This can be done either by checking whether the confidence interval contains 0 or by inspecting the p-value associated with tail_l. Since the p-value is small, we can conclude that the effect is statistically significant."
   ]
  },
  {
   "cell_type": "markdown",
   "id": "6508ddf9-7772-4753-bed3-a060f77faa16",
   "metadata": {},
   "source": [
    "### Assumptions of Linear Regression\n",
    "\n",
    "In order to rely on the confidence interval and p-values, we do need to check the assumptions of linear regression. \n",
    "\n",
    "The assumptions can be remembered using the acronym LINE:\n",
    "\n",
    "* There is a **L**inear relationship between the predictors and mean of the target.\n",
    "* The errors are **I**ndependent.\n",
    "* The errors are **N**ormally distributed.\n",
    "* The errors have **E**qual variance."
   ]
  },
  {
   "cell_type": "markdown",
   "id": "d6ba4719-7639-4f6e-9789-4f2341958526",
   "metadata": {},
   "source": [
    "The first one we can check by inspecting the scatterplot of the predictors against the target variable.\n",
    "\n",
    "The second assumption as more to do with understanding the data generation process. In this case, if we assume that we are working with a simple random sample, we can feel good that it is satisfied.\n",
    "\n",
    "For the third and fourth, we can inspect a plot of the errors."
   ]
  },
  {
   "cell_type": "code",
   "execution_count": 147,
   "id": "872c55a2-5489-482e-bc26-da74cd2dcf5d",
   "metadata": {},
   "outputs": [
    {
     "data": {
      "image/png": "[encoded data removed]",
      "text/plain": [
       "<Figure size 640x480 with 1 Axes>"
      ]
     },
     "metadata": {},
     "output_type": "display_data"
    }
   ],
   "source": [
    "plt.scatter(lr_total_tail.fittedvalues, lr_total_tail.resid);"
   ]
  },
  {
   "cell_type": "code",
   "execution_count": 213,
   "id": "c1fd77a4-3e91-4661-aa72-983b00cffade",
   "metadata": {},
   "outputs": [
    {
     "data": {
      "image/png": "[encoded data removed]",
      "text/plain": [
       "<Figure size 640x480 with 1 Axes>"
      ]
     },
     "metadata": {},
     "output_type": "display_data"
    }
   ],
   "source": [
    "plt.hist(lr_total_tail.resid, bins=21);"
   ]
  },
  {
   "cell_type": "code",
   "execution_count": 196,
   "id": "794f402c-f7a1-4e05-a236-96199d5442cb",
   "metadata": {},
   "outputs": [],
   "source": [
    "import statsmodels.stats.api as sms"
   ]
  },
  {
   "cell_type": "markdown",
   "id": "6f60b87f-673a-4539-b56c-3fabed03a83c",
   "metadata": {},
   "source": [
    "To test for normality, we'll use the [Jarque-Bera test](https://www.statsmodels.org/dev/generated/statsmodels.stats.stattools.jarque_bera.html).\n",
    "\n",
    "The Jarque-Bera test statistic tests the null that the data is normally distributed against an alternative that the data follow some other distribution."
   ]
  },
  {
   "cell_type": "code",
   "execution_count": 198,
   "id": "a124f07a-3e1f-44a7-9963-628a1506585a",
   "metadata": {},
   "outputs": [
    {
     "data": {
      "text/plain": [
       "(1.4879463321451898,\n",
       " 0.4752220235883342,\n",
       " -0.1571909435381488,\n",
       " 2.5054939236233897)"
      ]
     },
     "execution_count": 198,
     "metadata": {},
     "output_type": "execute_result"
    }
   ],
   "source": [
    "sms.jarque_bera(lr_total_tail.resid)"
   ]
  },
  {
   "cell_type": "markdown",
   "id": "2fdc6bf3-7b6a-4fc9-b7a3-0151490f1eb0",
   "metadata": {},
   "source": [
    "The second component is the p-value. In this case, there is not enough evidence to conclude that the residuals are non-normal."
   ]
  },
  {
   "cell_type": "markdown",
   "id": "007f7440-0b85-4cbd-ae62-87eeeec6a659",
   "metadata": {},
   "source": [
    "To test that there is equal variability in the residuals, we can use the [Breusch-Pagan Lagrange Multiplier test](https://www.statsmodels.org/stable/generated/statsmodels.stats.diagnostic.het_breuschpagan.html) for heteroscedasticity which tests the hypothesis that the residual variance does not depend on the predictor variables."
   ]
  },
  {
   "cell_type": "code",
   "execution_count": 201,
   "id": "526a22ed-c131-4df4-933a-6e8762978d8f",
   "metadata": {},
   "outputs": [
    {
     "data": {
      "text/plain": [
       "(1.2833100363788184, 0.257284496039655, 1.2743559372580988, 0.2615991382513874)"
      ]
     },
     "execution_count": 201,
     "metadata": {},
     "output_type": "execute_result"
    }
   ],
   "source": [
    "sms.het_breuschpagan(lr_total_tail.resid, lr_total_tail.model.exog)"
   ]
  },
  {
   "cell_type": "raw",
   "id": "0ca727e2-e751-4b0f-8030-89a6599edf2b",
   "metadata": {},
   "source": [
    "Again, the p-value is the second component. We don't have enough evidence to conclude that this assumption is violated."
   ]
  },
  {
   "cell_type": "markdown",
   "id": "9d99706b-dfd0-4df0-9408-9b18bd55764f",
   "metadata": {},
   "source": [
    "### Goodness of Fit\n",
    "\n",
    "Another way we can analyze our model is by looking at the **goodness of fit** or how well the model's predicted values matched the observed data.\n",
    "\n",
    "One way we can measure this is the **R-squared** value, which compares the variance of the residuals to the variance in the target variable. It is the proportion by which the variability in the target is reduced by using the estimate from the model. It is often phrased as the proportion of the variability in the target that could be **explained** by the predictor variables.\n",
    "\n",
    "We can calculate it ourselves:"
   ]
  },
  {
   "cell_type": "code",
   "execution_count": 203,
   "id": "0e0e0d37-25f3-4ef9-a977-0626ea5f9bd6",
   "metadata": {},
   "outputs": [
    {
     "data": {
      "text/plain": [
       "18.580836445108282"
      ]
     },
     "execution_count": 203,
     "metadata": {},
     "output_type": "execute_result"
    }
   ],
   "source": [
    "possums['total_l'].var()"
   ]
  },
  {
   "cell_type": "code",
   "execution_count": 205,
   "id": "1835c913-a205-4c31-b454-9a54ee825d3d",
   "metadata": {},
   "outputs": [
    {
     "data": {
      "text/plain": [
       "12.63580792886947"
      ]
     },
     "execution_count": 205,
     "metadata": {},
     "output_type": "execute_result"
    }
   ],
   "source": [
    "lr_total_tail.resid.var()"
   ]
  },
  {
   "cell_type": "code",
   "execution_count": 208,
   "id": "becdf602-f31d-4578-9f03-e8b717e932b6",
   "metadata": {},
   "outputs": [
    {
     "data": {
      "text/plain": [
       "0.31995483808286473"
      ]
     },
     "execution_count": 208,
     "metadata": {},
     "output_type": "execute_result"
    }
   ],
   "source": [
    "(possums['total_l'].var() - lr_total_tail.resid.var()) / possums['total_l'].var()"
   ]
  },
  {
   "cell_type": "markdown",
   "id": "e8709a05-0a4c-4e72-97f8-fc79cbfa94d5",
   "metadata": {},
   "source": [
    "Or by inspecting the rsquared attribute."
   ]
  },
  {
   "cell_type": "code",
   "execution_count": 160,
   "id": "5331a1ca-8684-4a73-91e8-980b42622f7d",
   "metadata": {},
   "outputs": [
    {
     "data": {
      "text/plain": [
       "0.3199548380828652"
      ]
     },
     "execution_count": 160,
     "metadata": {},
     "output_type": "execute_result"
    }
   ],
   "source": [
    "lr_total_tail.rsquared"
   ]
  },
  {
   "cell_type": "markdown",
   "id": "4d86837d-39e7-469e-a813-23130531643c",
   "metadata": {},
   "source": [
    "A model that has no residuals would have an R-squared value of 1 and a model which estimates using the overall mean would have an R-squared value of 0."
   ]
  },
  {
   "cell_type": "code",
   "execution_count": null,
   "id": "39a0dd09-e00a-4b69-819f-bbb1fbf53f7a",
   "metadata": {},
   "outputs": [],
   "source": []
  },
  {
   "cell_type": "code",
   "execution_count": null,
   "id": "374d3f7d-5e0d-41e8-b6b5-d088e60527ea",
   "metadata": {},
   "outputs": [],
   "source": []
  },
  {
   "cell_type": "code",
   "execution_count": null,
   "id": "48d9edf0-7c0a-4179-91d9-ec7d1e8bd8bb",
   "metadata": {},
   "outputs": [],
   "source": []
  },
  {
   "cell_type": "code",
   "execution_count": null,
   "id": "93656aa1-39fb-4a23-a22b-f261ed8b4e1c",
   "metadata": {},
   "outputs": [],
   "source": []
  },
  {
   "cell_type": "code",
   "execution_count": null,
   "id": "e0eb51d3-6918-47d4-b8eb-b06ccd785d94",
   "metadata": {},
   "outputs": [],
   "source": []
  },
  {
   "cell_type": "code",
   "execution_count": null,
   "id": "74f33f64-ac60-44d9-937c-d040a04ede43",
   "metadata": {},
   "outputs": [],
   "source": []
  },
  {
   "cell_type": "code",
   "execution_count": null,
   "id": "50bca9ab-d5a6-4ccd-ae30-ae28746f12be",
   "metadata": {},
   "outputs": [],
   "source": []
  }
 ],
 "metadata": {
  "kernelspec": {
   "display_name": "Python 3 (ipykernel)",
   "language": "python",
   "name": "python3"
  },
  "language_info": {
   "codemirror_mode": {
    "name": "ipython",
    "version": 3
   },
   "file_extension": ".py",
   "mimetype": "text/x-python",
   "name": "python",
   "nbconvert_exporter": "python",
   "pygments_lexer": "ipython3",
   "version": "3.12.3"
  }
 },
 "nbformat": 4,
 "nbformat_minor": 5
}
