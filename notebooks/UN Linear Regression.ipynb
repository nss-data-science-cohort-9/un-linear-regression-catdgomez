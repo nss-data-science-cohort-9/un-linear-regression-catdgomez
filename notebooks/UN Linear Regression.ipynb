{
 "cells": [
  {
   "cell_type": "markdown",
   "id": "e452d3fe-e4e0-4a3b-9430-3aab47270ffb",
   "metadata": {},
   "source": [
    "# UN Linear Regression\n",
    "\n",
    "For this exercise, you've been provided with a csv file, gdp_le.csv, which contains the gdp per capita and life expectancy values that you were working with on the UN data exercise.t."
   ]
  },
  {
   "cell_type": "code",
   "execution_count": 21,
   "id": "3a114c87-3122-42fa-ad58-89a735e0d493",
   "metadata": {},
   "outputs": [],
   "source": [
    "import pandas as pd\n",
    "import numpy as np\n",
    "import matplotlib.pyplot as plt\n",
    "import statsmodels.formula.api as smf"
   ]
  },
  {
   "cell_type": "code",
   "execution_count": 22,
   "id": "62dfb1af-7c5f-46a5-b238-49150ae1d517",
   "metadata": {},
   "outputs": [
    {
     "data": {
      "text/html": [
       "<div>\n",
       "<style scoped>\n",
       "    .dataframe tbody tr th:only-of-type {\n",
       "        vertical-align: middle;\n",
       "    }\n",
       "\n",
       "    .dataframe tbody tr th {\n",
       "        vertical-align: top;\n",
       "    }\n",
       "\n",
       "    .dataframe thead th {\n",
       "        text-align: right;\n",
       "    }\n",
       "</style>\n",
       "<table border=\"1\" class=\"dataframe\">\n",
       "  <thead>\n",
       "    <tr style=\"text-align: right;\">\n",
       "      <th></th>\n",
       "      <th>Country</th>\n",
       "      <th>Year</th>\n",
       "      <th>GDP_Per_Capita</th>\n",
       "      <th>Continent</th>\n",
       "      <th>Life_Expectancy</th>\n",
       "    </tr>\n",
       "  </thead>\n",
       "  <tbody>\n",
       "    <tr>\n",
       "      <th>0</th>\n",
       "      <td>Afghanistan</td>\n",
       "      <td>2021</td>\n",
       "      <td>1517.016266</td>\n",
       "      <td>Asia</td>\n",
       "      <td>61.982</td>\n",
       "    </tr>\n",
       "    <tr>\n",
       "      <th>1</th>\n",
       "      <td>Afghanistan</td>\n",
       "      <td>2020</td>\n",
       "      <td>1968.341002</td>\n",
       "      <td>Asia</td>\n",
       "      <td>62.575</td>\n",
       "    </tr>\n",
       "    <tr>\n",
       "      <th>2</th>\n",
       "      <td>Afghanistan</td>\n",
       "      <td>2019</td>\n",
       "      <td>2079.921861</td>\n",
       "      <td>Asia</td>\n",
       "      <td>63.565</td>\n",
       "    </tr>\n",
       "    <tr>\n",
       "      <th>3</th>\n",
       "      <td>Afghanistan</td>\n",
       "      <td>2018</td>\n",
       "      <td>2060.698973</td>\n",
       "      <td>Asia</td>\n",
       "      <td>63.081</td>\n",
       "    </tr>\n",
       "    <tr>\n",
       "      <th>4</th>\n",
       "      <td>Afghanistan</td>\n",
       "      <td>2017</td>\n",
       "      <td>2096.093111</td>\n",
       "      <td>Asia</td>\n",
       "      <td>63.016</td>\n",
       "    </tr>\n",
       "  </tbody>\n",
       "</table>\n",
       "</div>"
      ],
      "text/plain": [
       "       Country  Year  GDP_Per_Capita Continent  Life_Expectancy\n",
       "0  Afghanistan  2021     1517.016266      Asia           61.982\n",
       "1  Afghanistan  2020     1968.341002      Asia           62.575\n",
       "2  Afghanistan  2019     2079.921861      Asia           63.565\n",
       "3  Afghanistan  2018     2060.698973      Asia           63.081\n",
       "4  Afghanistan  2017     2096.093111      Asia           63.016"
      ]
     },
     "execution_count": 22,
     "metadata": {},
     "output_type": "execute_result"
    }
   ],
   "source": [
    "gdp_le = pd.read_csv(\"../data/gdp_le.csv\")\n",
    "gdp_le.head()"
   ]
  },
  {
   "cell_type": "markdown",
   "id": "426516e4-c7bf-4a80-b9c2-9915c21c5347",
   "metadata": {},
   "source": [
    "#### 1. Start by fitting a linear regression model with target being life expectancy and predictor variable year.\n"
   ]
  },
  {
   "cell_type": "markdown",
   "id": "f5687f7b-9550-4abc-8f4b-677c07f8256f",
   "metadata": {},
   "source": [
    "##### a. What coefficients do you get? Interpret the meaning of these coefficents."
   ]
  },
  {
   "cell_type": "code",
   "execution_count": 33,
   "id": "39a0dd09-e00a-4b69-819f-bbb1fbf53f7a",
   "metadata": {},
   "outputs": [],
   "source": [
    "lr_le_yr = smf.ols(\"Life_Expectancy ~ Year\", data=gdp_le).fit()"
   ]
  },
  {
   "cell_type": "code",
   "execution_count": 35,
   "id": "374d3f7d-5e0d-41e8-b6b5-d088e60527ea",
   "metadata": {},
   "outputs": [
    {
     "data": {
      "text/plain": [
       "Intercept   -468.138140\n",
       "Year           0.267722\n",
       "dtype: float64"
      ]
     },
     "execution_count": 35,
     "metadata": {},
     "output_type": "execute_result"
    }
   ],
   "source": [
    "lr_le_yr.params"
   ]
  },
  {
   "cell_type": "code",
   "execution_count": 43,
   "id": "48d9edf0-7c0a-4179-91d9-ec7d1e8bd8bb",
   "metadata": {},
   "outputs": [
    {
     "data": {
      "image/png": "[encoded data removed]",
      "text/plain": [
       "<Figure size 640x480 with 1 Axes>"
      ]
     },
     "metadata": {},
     "output_type": "display_data"
    }
   ],
   "source": [
    "gdp_le[gdp_le[\"Country\"] == \"Ireland\"].plot(kind=\"line\", x=\"Year\", y=\"Life_Expectancy\");"
   ]
  },
  {
   "cell_type": "code",
   "execution_count": null,
   "id": "93656aa1-39fb-4a23-a22b-f261ed8b4e1c",
   "metadata": {},
   "outputs": [],
   "source": []
  },
  {
   "cell_type": "code",
   "execution_count": null,
   "id": "e0eb51d3-6918-47d4-b8eb-b06ccd785d94",
   "metadata": {},
   "outputs": [],
   "source": []
  },
  {
   "cell_type": "code",
   "execution_count": null,
   "id": "74f33f64-ac60-44d9-937c-d040a04ede43",
   "metadata": {},
   "outputs": [],
   "source": []
  },
  {
   "cell_type": "code",
   "execution_count": null,
   "id": "50bca9ab-d5a6-4ccd-ae30-ae28746f12be",
   "metadata": {},
   "outputs": [],
   "source": []
  }
 ],
 "metadata": {
  "kernelspec": {
   "display_name": "Python 3 (ipykernel)",
   "language": "python",
   "name": "python3"
  },
  "language_info": {
   "codemirror_mode": {
    "name": "ipython",
    "version": 3
   },
   "file_extension": ".py",
   "mimetype": "text/x-python",
   "name": "python",
   "nbconvert_exporter": "python",
   "pygments_lexer": "ipython3",
   "version": "3.12.3"
  }
 },
 "nbformat": 4,
 "nbformat_minor": 5
}
